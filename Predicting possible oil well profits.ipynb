{
 "cells": [
  {
   "cell_type": "markdown",
   "metadata": {},
   "source": [
    "# 1. Загрузка и подготовка данных"
   ]
  },
  {
   "cell_type": "markdown",
   "metadata": {},
   "source": [
    "Загрузим данные, посмотрим на них, если есть ненужные для обучения модели и построения выводов столбцы, удалим их\n",
    "Разделим каждый файл geo_0, geo_1 and geo_2 на test и valid; test и valid разделим на features и target"
   ]
  },
  {
   "cell_type": "code",
   "execution_count": 1,
   "metadata": {},
   "outputs": [],
   "source": [
    "import pandas as pd\n",
    "import sklearn\n",
    "import seaborn as sns\n",
    "import numpy as np\n",
    "import matplotlib.pyplot as plt\n",
    "\n",
    "\n",
    "import warnings\n",
    "warnings.filterwarnings('ignore')\n",
    "\n",
    "from sklearn.linear_model import LinearRegression\n",
    "from sklearn.preprocessing import LabelEncoder\n",
    "\n",
    "from sklearn.model_selection import train_test_split\n",
    "from sklearn.metrics import mean_squared_error as mse\n",
    "\n",
    "from numpy.random import RandomState\n",
    "from sklearn.preprocessing import OneHotEncoder,LabelEncoder\n",
    "\n"
   ]
  },
  {
   "cell_type": "code",
   "execution_count": 2,
   "metadata": {},
   "outputs": [],
   "source": [
    "#загружаем файлы\n",
    "geo_0=pd.read_csv('/datasets/geo_data_0.csv')\n",
    "geo_1=pd.read_csv('/datasets/geo_data_1.csv')\n",
    "geo_2=pd.read_csv('/datasets/geo_data_2.csv')"
   ]
  },
  {
   "cell_type": "markdown",
   "metadata": {},
   "source": [
    "# Проведем небольшой предварительный анализ"
   ]
  },
  {
   "cell_type": "markdown",
   "metadata": {},
   "source": [
    "Посторим диаграммы и таблицы корреляции для каждого региона"
   ]
  },
  {
   "cell_type": "code",
   "execution_count": 3,
   "metadata": {},
   "outputs": [
    {
     "data": {
      "image/png": "[encoded data removed]",
      "text/plain": [
       "<Figure size 432x288 with 1 Axes>"
      ]
     },
     "metadata": {
      "needs_background": "light"
     },
     "output_type": "display_data"
    },
    {
     "name": "stdout",
     "output_type": "stream",
     "text": [
      "               f0        f1        f2   product\n",
      "f0       1.000000 -0.440723 -0.003153  0.143536\n",
      "f1      -0.440723  1.000000  0.001724 -0.192356\n",
      "f2      -0.003153  0.001724  1.000000  0.483663\n",
      "product  0.143536 -0.192356  0.483663  1.000000\n",
      "                  f0             f1             f2        product\n",
      "count  100000.000000  100000.000000  100000.000000  100000.000000\n",
      "mean        0.500419       0.250143       2.502647      92.500000\n",
      "std         0.871832       0.504433       3.248248      44.288691\n",
      "min        -1.408605      -0.848218     -12.088328       0.000000\n",
      "25%        -0.072580      -0.200881       0.287748      56.497507\n",
      "50%         0.502360       0.250252       2.515969      91.849972\n",
      "75%         1.073581       0.700646       4.715088     128.564089\n",
      "max         2.362331       1.343769      16.003790     185.364347\n"
     ]
    },
    {
     "data": {
      "image/png": "[encoded data removed]",
      "text/plain": [
       "<Figure size 432x288 with 1 Axes>"
      ]
     },
     "metadata": {
      "needs_background": "light"
     },
     "output_type": "display_data"
    },
    {
     "name": "stdout",
     "output_type": "stream",
     "text": [
      "               f0        f1        f2   product\n",
      "f0       1.000000  0.182287 -0.001777 -0.030491\n",
      "f1       0.182287  1.000000 -0.002595 -0.010155\n",
      "f2      -0.001777 -0.002595  1.000000  0.999397\n",
      "product -0.030491 -0.010155  0.999397  1.000000\n",
      "                  f0             f1             f2        product\n",
      "count  100000.000000  100000.000000  100000.000000  100000.000000\n",
      "mean        1.141296      -4.796579       2.494541      68.825000\n",
      "std         8.965932       5.119872       1.703572      45.944423\n",
      "min       -31.609576     -26.358598      -0.018144       0.000000\n",
      "25%        -6.298551      -8.267985       1.000021      26.953261\n",
      "50%         1.153055      -4.813172       2.011479      57.085625\n",
      "75%         8.621015      -1.332816       3.999904     107.813044\n",
      "max        29.421755      18.734063       5.019721     137.945408\n"
     ]
    },
    {
     "data": {
      "image/png": "[encoded data removed]",
      "text/plain": [
       "<Figure size 432x288 with 1 Axes>"
      ]
     },
     "metadata": {
      "needs_background": "light"
     },
     "output_type": "display_data"
    },
    {
     "name": "stdout",
     "output_type": "stream",
     "text": [
      "               f0        f1        f2   product\n",
      "f0       1.000000  0.000528 -0.000448 -0.001987\n",
      "f1       0.000528  1.000000  0.000779 -0.001012\n",
      "f2      -0.000448  0.000779  1.000000  0.445871\n",
      "product -0.001987 -0.001012  0.445871  1.000000\n",
      "                  f0             f1             f2        product\n",
      "count  100000.000000  100000.000000  100000.000000  100000.000000\n",
      "mean        0.002023      -0.002081       2.495128      95.000000\n",
      "std         1.732045       1.730417       3.473445      44.749921\n",
      "min        -8.760004      -7.084020     -11.970335       0.000000\n",
      "25%        -1.162288      -1.174820       0.130359      59.450441\n",
      "50%         0.009424      -0.009482       2.484236      94.925613\n",
      "75%         1.158535       1.163678       4.858794     130.595027\n",
      "max         7.238262       7.844801      16.739402     190.029838\n"
     ]
    }
   ],
   "source": [
    "for geo in [geo_0, geo_1,geo_2]:\n",
    "    geo.hist(['product'],bins=100)\n",
    "    plt.show()\n",
    "    print(geo.corr())\n",
    "    print(geo.describe())"
   ]
  },
  {
   "cell_type": "markdown",
   "metadata": {},
   "source": [
    "Парочка интересных факторов:\n",
    "1. Почти идеальная корреляция между f2 и product в регионе geo_1\n",
    "2. Интервальное разбиение product-а в регионе geo_1: либо это ошибка в синтетических данных, а если данные были бы реальными, то это могло бы говорить о наличии в регионе крупного месторождения(вероятно, что f2-глубина залегания)\n",
    "3. В целом регионы geo_0 и geo_2 похожи друг на друга: непрерывный спектр product-а, отсутствующая или низкая корреляция между f-ками и product-ом"
   ]
  },
  {
   "cell_type": "code",
   "execution_count": 4,
   "metadata": {},
   "outputs": [],
   "source": [
    "#удаляем столбец id, так как его значение никак не может влиять на количество нефти в скважине\n",
    "geo_0=geo_0.drop(['id'],axis=1)\n",
    "geo_1=geo_1.drop(['id'],axis=1)\n",
    "geo_2=geo_2.drop(['id'],axis=1)"
   ]
  },
  {
   "cell_type": "code",
   "execution_count": 5,
   "metadata": {},
   "outputs": [],
   "source": [
    "#функция разделения на train и valid\n",
    "def division(df):\n",
    "    df_train, df_valid= train_test_split(df, test_size=0.25,random_state=12345)\n",
    "    return df_train, df_valid\n",
    "#функция разделения df на features и target\n",
    "def feat_targ(df):\n",
    "    target=df['product']\n",
    "    features=df.drop(['product'],axis=1)\n",
    "    return features, target\n",
    "\n"
   ]
  },
  {
   "cell_type": "code",
   "execution_count": 6,
   "metadata": {},
   "outputs": [],
   "source": [
    "#получим train и valid для каждого файла\n",
    "train_0, valid_0=division(geo_0)\n",
    "train_1, valid_1=division(geo_1)\n",
    "train_2, valid_2 = division(geo_2)\n",
    "#разделим на features и target каждый train и valid\n",
    "feat_tr_0, target_tr_0=feat_targ(train_0)\n",
    "feat_val_0, target_val_0=feat_targ(valid_0)\n",
    "\n",
    "feat_tr_1, target_tr_1=feat_targ(train_1)\n",
    "feat_val_1,target_val_1=feat_targ(valid_1)\n",
    "\n",
    "feat_tr_2, target_tr_2=feat_targ(train_2)\n",
    "feat_val_2, target_val_2=feat_targ(valid_2)\n"
   ]
  },
  {
   "cell_type": "markdown",
   "metadata": {},
   "source": [
    "# 2. Обучение и проверка модели"
   ]
  },
  {
   "cell_type": "markdown",
   "metadata": {},
   "source": [
    "Обучим модель линейной регрессии, получим предсказания для каждого региона"
   ]
  },
  {
   "cell_type": "code",
   "execution_count": 7,
   "metadata": {},
   "outputs": [],
   "source": [
    "def model_res(feat, target,feat_val, target_val,geo):\n",
    "    model=LinearRegression()\n",
    "    model.fit(feat,target)\n",
    "    pred = model.predict(feat_val)\n",
    "    rmse = mse(target_val,pred)**0.5\n",
    "    \n",
    "    print('RMSE', rmse)\n",
    "    print('mean',pred.mean())\n",
    "    \n",
    "    return pd.Series(pred)\n",
    "\n"
   ]
  },
  {
   "cell_type": "code",
   "execution_count": 8,
   "metadata": {},
   "outputs": [
    {
     "name": "stdout",
     "output_type": "stream",
     "text": [
      "geo_0\n",
      "RMSE 37.5794217150813\n",
      "mean 92.59256778438038\n",
      "geo_1\n",
      "RMSE 0.893099286775616\n",
      "mean 68.728546895446\n",
      "geo_2\n",
      "RMSE 40.02970873393434\n",
      "mean 94.96504596800489\n"
     ]
    }
   ],
   "source": [
    "print('geo_0')\n",
    "pred_0=model_res(feat_tr_0, target_tr_0, feat_val_0, target_val_0, geo_0)\n",
    "print('geo_1')\n",
    "pred_1=model_res(feat_tr_1, target_tr_1, feat_val_1,target_val_1,geo_1)\n",
    "print('geo_2')\n",
    "pred_2=model_res(feat_tr_2, target_tr_2,feat_val_2, target_val_2,geo_2)"
   ]
  },
  {
   "cell_type": "code",
   "execution_count": 9,
   "metadata": {},
   "outputs": [
    {
     "name": "stdout",
     "output_type": "stream",
     "text": [
      "Данные о распределении предсказанных объемов в каждом районе: geo_0, geo_1 и geo_2\n",
      "\n",
      "count    25000.000000\n",
      "mean        92.592568\n",
      "std         23.176994\n",
      "min         -9.367846\n",
      "25%         76.652232\n",
      "50%         92.661884\n",
      "75%        108.437632\n",
      "max        180.180713\n",
      "dtype: float64\n",
      "\n",
      "count    25000.000000\n",
      "mean        68.728547\n",
      "std         46.010225\n",
      "min         -1.893774\n",
      "25%         28.536661\n",
      "50%         57.851586\n",
      "75%        109.346485\n",
      "max        139.818970\n",
      "dtype: float64\n",
      "\n",
      "count    25000.000000\n",
      "mean        94.965046\n",
      "std         19.853733\n",
      "min         17.131597\n",
      "25%         81.388500\n",
      "50%         95.031204\n",
      "75%        108.492663\n",
      "max        165.856833\n",
      "dtype: float64\n"
     ]
    }
   ],
   "source": [
    "print('Данные о распределении предсказанных объемов в каждом районе: geo_0, geo_1 и geo_2')\n",
    "for pred in [pred_0, pred_1, pred_2]:\n",
    "    print('')\n",
    "    print(pd.Series(pred).describe())\n"
   ]
  },
  {
   "cell_type": "markdown",
   "metadata": {},
   "source": [
    "Как видим, предпочтительного региона для добычи нефти нет, в одном районе есть отрицательные предсказанные значения вкупе с высоким максимальным и 75%, с другой стороны районе geo_2 выглядит предпочтительным: относительно высокое среднее, но при этом невысокое максимальное и 75% значения.Посчитаем риски, прибыль и выберем район для разработки"
   ]
  },
  {
   "cell_type": "markdown",
   "metadata": {},
   "source": [
    "# 3. Подготовка к расчету прибыли"
   ]
  },
  {
   "cell_type": "markdown",
   "metadata": {},
   "source": [
    "Посчитаем все необходимые данные для расчета ликвидности добычи нефти в районе "
   ]
  },
  {
   "cell_type": "code",
   "execution_count": 10,
   "metadata": {},
   "outputs": [
    {
     "name": "stdout",
     "output_type": "stream",
     "text": [
      "Бюджет на разработку одной вышки в  рублях 50000000.0\n",
      "Средний объем нефти(в тыс баррелях) в каждой скважине для выхода \"в ноль\"  111.11111111111111\n"
     ]
    }
   ],
   "source": [
    "budget = 10**10#суммарный бюджет в рублях \n",
    "budget_one_well=budget/200 #бюджет на каждую вышку\n",
    "print('Бюджет на разработку одной вышки в  рублях',budget_one_well)\n",
    "profit_one_barr=450000#стоимость одной тысячи баррелей нефти\n",
    "min_volume_oil= budget_one_well/profit_one_barr\n",
    "print('Средний объем нефти(в тыс баррелях) в каждой скважине для выхода \"в ноль\" ',min_volume_oil)\n"
   ]
  },
  {
   "cell_type": "markdown",
   "metadata": {},
   "source": [
    "# 4. Расчёт прибыли и рисков "
   ]
  },
  {
   "cell_type": "markdown",
   "metadata": {},
   "source": [
    "Воспользуемся методом Bootstrap для более точной статистической оценки привлекательности каждого региона"
   ]
  },
  {
   "cell_type": "code",
   "execution_count": 11,
   "metadata": {},
   "outputs": [],
   "source": [
    "#функция считающая прибыль для 200 самых выполненных вышек\n",
    "def profitability(target, probabilities):\n",
    "    probs_sorted = probabilities.sort_values(ascending=False)\n",
    "    selected = target[probs_sorted.index][:200]\n",
    "    product = selected.sum()\n",
    "    revenue = product * profit_one_barr\n",
    "    return revenue - budget"
   ]
  },
  {
   "cell_type": "code",
   "execution_count": 12,
   "metadata": {},
   "outputs": [],
   "source": [
    "state = np.random.RandomState(12345)\n",
    "#bootstrap\n",
    "def bootstrap(target, probabilities):\n",
    "    values = []\n",
    "    for i in range(1000):\n",
    "        target_subsample = target.sample(n=500, replace=True, random_state=state)\n",
    "        probs_subsample = pd.Series(probabilities[target_subsample.index])\n",
    "        values.append(profitability(target, probs_subsample))\n",
    "    values = pd.Series(values)\n",
    "    lower = values.quantile(0.05) \n",
    "    upper = values.quantile(0.95)\n",
    "    \n",
    "    return (print('Все данные в млн рублей'),\n",
    "            print('Нижняя граница ', \"{:.2f}\".format(lower/1000000)), print('Верхняя граница',\"{:.2f}\".format(upper/1000000)), \n",
    "            print('Среднее значение прибыли ',\"{:.2f}\".format(values.mean()/1000000)),\n",
    "\n",
    "            print('Риск в %', (values < 0).mean()* 100, \"%\"))    \n",
    "        \n",
    "        "
   ]
  },
  {
   "cell_type": "code",
   "execution_count": 13,
   "metadata": {},
   "outputs": [
    {
     "name": "stdout",
     "output_type": "stream",
     "text": [
      "geo_0\n",
      "Все данные в млн рублей\n",
      "Нижняя граница  -37.18\n",
      "Верхняя граница 842.69\n",
      "Среднее значение прибыли  396.16\n",
      "Риск в % 6.9 %\n"
     ]
    },
    {
     "data": {
      "text/plain": [
       "(None, None, None, None, None)"
      ]
     },
     "execution_count": 13,
     "metadata": {},
     "output_type": "execute_result"
    }
   ],
   "source": [
    "print('geo_0')\n",
    "bootstrap(target_val_0.reset_index(drop=True),pred_0)\n"
   ]
  },
  {
   "cell_type": "code",
   "execution_count": 14,
   "metadata": {},
   "outputs": [
    {
     "name": "stdout",
     "output_type": "stream",
     "text": [
      "geo_1\n",
      "Все данные в млн рублей\n",
      "Нижняя граница  140.21\n",
      "Верхняя граница 808.06\n",
      "Среднее значение прибыли  461.16\n",
      "Риск в % 0.7000000000000001 %\n",
      "(None, None, None, None, None)\n"
     ]
    }
   ],
   "source": [
    "print('geo_1')\n",
    "print(bootstrap(target_val_1.reset_index(drop=True),pred_1))\n"
   ]
  },
  {
   "cell_type": "code",
   "execution_count": 15,
   "metadata": {},
   "outputs": [
    {
     "name": "stdout",
     "output_type": "stream",
     "text": [
      "geo_2\n",
      "Все данные в млн рублей\n",
      "Нижняя граница  -27.72\n",
      "Верхняя граница 841.30\n",
      "Среднее значение прибыли  392.95\n",
      "Риск в % 6.5 %\n",
      "(None, None, None, None, None)\n"
     ]
    }
   ],
   "source": [
    "print('geo_2')\n",
    "print(bootstrap(target_val_2.reset_index(drop=True),pred_2))"
   ]
  },
  {
   "cell_type": "markdown",
   "metadata": {},
   "source": [
    "Наиболее выгодным является регион geo_1, хотя изначально он был не интересен. В данном регионе низкие риски, положительные границы прибыли и наивысшее значение средней прибыли. Вероятно, что на прибыльность влияет высокая дискретность количества нефти в скважинах этого региона"
   ]
  }
 ],
 "metadata": {
  "kernelspec": {
   "display_name": "Python 3",
   "language": "python",
   "name": "python3"
  },
  "language_info": {
   "codemirror_mode": {
    "name": "ipython",
    "version": 3
   },
   "file_extension": ".py",
   "mimetype": "text/x-python",
   "name": "python",
   "nbconvert_exporter": "python",
   "pygments_lexer": "ipython3",
   "version": "3.7.6"
  }
 },
 "nbformat": 4,
 "nbformat_minor": 2
}
